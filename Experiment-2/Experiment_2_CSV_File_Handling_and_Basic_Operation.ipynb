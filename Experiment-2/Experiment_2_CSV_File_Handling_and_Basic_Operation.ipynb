{
  "nbformat": 4,
  "nbformat_minor": 0,
  "metadata": {
    "colab": {
      "provenance": []
    },
    "kernelspec": {
      "name": "python3",
      "display_name": "Python 3"
    },
    "language_info": {
      "name": "python"
    }
  },
  "cells": [
    {
      "cell_type": "code",
      "source": [
        "import csv"
      ],
      "metadata": {
        "id": "U2dY3e9E1mkx"
      },
      "execution_count": null,
      "outputs": []
    },
    {
      "cell_type": "code",
      "source": [
        "input_file=\"student_grades.csv\"\n",
        "output_file=\"student_grades_average.csv\""
      ],
      "metadata": {
        "id": "o-67GC1e1mhl"
      },
      "execution_count": null,
      "outputs": []
    },
    {
      "cell_type": "markdown",
      "source": [
        "###Reading csv file\n"
      ],
      "metadata": {
        "id": "Q4l1XzD95Nfy"
      }
    },
    {
      "cell_type": "code",
      "source": [
        "students_dict={}\n",
        "with open(input_file,\"r\") as f:\n",
        "  read=csv.DictReader(f)\n",
        "  for row in read:\n",
        "    name=row['Name']\n",
        "    math_score=int(row['Maths'])\n",
        "    science_score=int(row['Science'])\n",
        "    english_score=int(row['English'])\n",
        "    average_score=[math_score,science_score,english_score]\n",
        "    average_score=sum(average_score)/len(average_score)\n",
        "    students_dict[name]=average_score"
      ],
      "metadata": {
        "id": "pZKEmLMi1mfC"
      },
      "execution_count": null,
      "outputs": []
    },
    {
      "cell_type": "markdown",
      "source": [
        "###Summary of files"
      ],
      "metadata": {
        "id": "wTHapvHm5USS"
      }
    },
    {
      "cell_type": "code",
      "source": [
        "with open(output_file,\"w\") as f:\n",
        "  fieldname=['Name','Average']\n",
        "  writer=csv.DictWriter(f,fieldnames=fieldname)\n",
        "  writer.writeheader()\n",
        "  for name,average in students_dict.items():\n",
        "    writer.writerow({'Name':name,'Average':average})\n",
        "\n",
        "  print(\"New File for Average score with name is created successfully\")"
      ],
      "metadata": {
        "colab": {
          "base_uri": "https://localhost:8080/"
        },
        "id": "6E8NteKR1mc0",
        "outputId": "d5c22380-03a5-4785-90cd-b69f3b227a87"
      },
      "execution_count": null,
      "outputs": [
        {
          "output_type": "stream",
          "name": "stdout",
          "text": [
            "New File for Average score with name is created successfully\n"
          ]
        }
      ]
    },
    {
      "cell_type": "code",
      "source": [],
      "metadata": {
        "id": "d5JDvJda7Mim"
      },
      "execution_count": null,
      "outputs": []
    },
    {
      "cell_type": "code",
      "source": [],
      "metadata": {
        "id": "AcSOyh7c7MfD"
      },
      "execution_count": null,
      "outputs": []
    },
    {
      "cell_type": "code",
      "source": [],
      "metadata": {
        "id": "fM6lc51c7Mc7"
      },
      "execution_count": null,
      "outputs": []
    }
  ]
}