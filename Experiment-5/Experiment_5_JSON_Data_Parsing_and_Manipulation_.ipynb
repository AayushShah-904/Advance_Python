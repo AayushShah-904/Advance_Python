{
  "nbformat": 4,
  "nbformat_minor": 0,
  "metadata": {
    "colab": {
      "provenance": []
    },
    "kernelspec": {
      "name": "python3",
      "display_name": "Python 3"
    },
    "language_info": {
      "name": "python"
    }
  },
  "cells": [
    {
      "cell_type": "code",
      "execution_count": 21,
      "metadata": {
        "id": "vDR_CGqt-B_M"
      },
      "outputs": [],
      "source": [
        "import json\n",
        "import os"
      ]
    },
    {
      "cell_type": "markdown",
      "source": [
        "###Reading JSON files\n"
      ],
      "metadata": {
        "id": "B0s0f_uTKvpn"
      }
    },
    {
      "cell_type": "code",
      "source": [
        "folder='/content/Data/'"
      ],
      "metadata": {
        "id": "HL0LqqKx-YdW"
      },
      "execution_count": 22,
      "outputs": []
    },
    {
      "cell_type": "code",
      "source": [
        "data_covid=[]\n",
        "for filename in os.listdir(folder):\n",
        "  filepath=os.path.join(folder,filename)\n",
        "  with open(filepath,'r') as f:\n",
        "    data=json.load(f)\n",
        "    data_covid.append(data)\n",
        "    print(data)\n",
        "print(\"Sucessfully Read Data\")\n"
      ],
      "metadata": {
        "colab": {
          "base_uri": "https://localhost:8080/"
        },
        "id": "QT0ODpNA-YTK",
        "outputId": "4622cee6-dc72-4b8c-ffbe-f36bb8d78679"
      },
      "execution_count": 87,
      "outputs": [
        {
          "output_type": "stream",
          "name": "stdout",
          "text": [
            "{'country': 'Russia', 'date': '2025-08-18', 'confirmed_cases': {'total': 280000, 'new': 1800}, 'deaths': {'total': 7200, 'new': 30}, 'recovered': {'total': 260000, 'new': 1700}}\n",
            "{'country': 'South Africa', 'date': '2025-08-18', 'confirmed_cases': {'total': 85000, 'new': 350}, 'deaths': {'total': 1900, 'new': 6}, 'recovered': {'total': 80000, 'new': 340}}\n",
            "{'country': 'UK', 'date': '2025-08-18', 'confirmed_cases': {'total': 210000, 'new': 1200}, 'deaths': {'total': 9500, 'new': 40}, 'recovered': {'total': 200000, 'new': 1100}}\n",
            "{'country': 'Japan', 'date': '2025-08-18', 'confirmed_cases': {'total': 100000, 'new': 500}, 'deaths': {'total': 1800, 'new': 8}, 'recovered': {'total': 95000, 'new': 480}}\n",
            "{'country': 'Brazil', 'date': '2025-08-18', 'confirmed_cases': {'total': 320000, 'new': 2100}, 'deaths': {'total': 8500, 'new': 35}, 'recovered': {'total': 300000, 'new': 2000}}\n",
            "{'country': 'Canada', 'date': '2025-08-18', 'confirmed_cases': {'total': 120000, 'new': 650}, 'deaths': {'total': 2200, 'new': 12}, 'recovered': {'total': 110000, 'new': 600}}\n",
            "{'country': 'Australia', 'date': '2025-08-18', 'confirmed_cases': {'total': 95000, 'new': 400}, 'deaths': {'total': 1200, 'new': 5}, 'recovered': {'total': 90000, 'new': 380}}\n",
            "{'country': 'India', 'date': '2025-08-18', 'confirmed_cases': {'total': 450000, 'new': 3200}, 'deaths': {'total': 5200, 'new': 45}, 'recovered': {'total': 420000, 'new': 3100}}\n",
            "{'country': 'USA', 'date': '2025-08-18', 'confirmed_cases': {'total': 680000, 'new': 4500}, 'deaths': {'total': 15000, 'new': 70}, 'recovered': {'total': 640000, 'new': 4200}}\n",
            "{'country': 'Germany', 'date': '2025-08-18', 'confirmed_cases': {'total': 150000, 'new': 900}, 'deaths': {'total': 3100, 'new': 15}, 'recovered': {'total': 140000, 'new': 870}}\n",
            "Sucessfully Read Data\n"
          ]
        }
      ]
    },
    {
      "cell_type": "markdown",
      "source": [
        "###Highest number of confirmed cases and Lowest number of confirmed cases."
      ],
      "metadata": {
        "id": "srKLOBmeK28A"
      }
    },
    {
      "cell_type": "code",
      "source": [
        "data_covid.sort(key=lambda x:x['confirmed_cases']['total'],reverse=True)\n",
        "highest_top_5=data_covid[:5]\n",
        "lowest_top_5=data_covid[::-1][:5]"
      ],
      "metadata": {
        "id": "pe8beUu0CriX"
      },
      "execution_count": 90,
      "outputs": []
    },
    {
      "cell_type": "code",
      "source": [
        "highest_top_5"
      ],
      "metadata": {
        "colab": {
          "base_uri": "https://localhost:8080/"
        },
        "id": "iRIxBhVpJh6l",
        "outputId": "e7607e58-271f-48ea-ed87-bfba586a16e3"
      },
      "execution_count": 78,
      "outputs": [
        {
          "output_type": "execute_result",
          "data": {
            "text/plain": [
              "[{'country': 'USA',\n",
              "  'date': '2025-08-18',\n",
              "  'confirmed_cases': {'total': 680000, 'new': 4500},\n",
              "  'deaths': {'total': 15000, 'new': 70},\n",
              "  'recovered': {'total': 640000, 'new': 4200}},\n",
              " {'country': 'India',\n",
              "  'date': '2025-08-18',\n",
              "  'confirmed_cases': {'total': 450000, 'new': 3200},\n",
              "  'deaths': {'total': 5200, 'new': 45},\n",
              "  'recovered': {'total': 420000, 'new': 3100}},\n",
              " {'country': 'Brazil',\n",
              "  'date': '2025-08-18',\n",
              "  'confirmed_cases': {'total': 320000, 'new': 2100},\n",
              "  'deaths': {'total': 8500, 'new': 35},\n",
              "  'recovered': {'total': 300000, 'new': 2000}},\n",
              " {'country': 'Russia',\n",
              "  'date': '2025-08-18',\n",
              "  'confirmed_cases': {'total': 280000, 'new': 1800},\n",
              "  'deaths': {'total': 7200, 'new': 30},\n",
              "  'recovered': {'total': 260000, 'new': 1700}},\n",
              " {'country': 'UK',\n",
              "  'date': '2025-08-18',\n",
              "  'confirmed_cases': {'total': 210000, 'new': 1200},\n",
              "  'deaths': {'total': 9500, 'new': 40},\n",
              "  'recovered': {'total': 200000, 'new': 1100}}]"
            ]
          },
          "metadata": {},
          "execution_count": 78
        }
      ]
    },
    {
      "cell_type": "code",
      "source": [
        "lowest_top_5"
      ],
      "metadata": {
        "colab": {
          "base_uri": "https://localhost:8080/"
        },
        "id": "R9xsBb_eJkh2",
        "outputId": "9021e1f9-9421-4fdb-c483-85fd8335a6d3"
      },
      "execution_count": 79,
      "outputs": [
        {
          "output_type": "execute_result",
          "data": {
            "text/plain": [
              "[{'country': 'South Africa',\n",
              "  'date': '2025-08-18',\n",
              "  'confirmed_cases': {'total': 85000, 'new': 350},\n",
              "  'deaths': {'total': 1900, 'new': 6},\n",
              "  'recovered': {'total': 80000, 'new': 340}},\n",
              " {'country': 'Australia',\n",
              "  'date': '2025-08-18',\n",
              "  'confirmed_cases': {'total': 95000, 'new': 400},\n",
              "  'deaths': {'total': 1200, 'new': 5},\n",
              "  'recovered': {'total': 90000, 'new': 380}},\n",
              " {'country': 'Japan',\n",
              "  'date': '2025-08-18',\n",
              "  'confirmed_cases': {'total': 100000, 'new': 500},\n",
              "  'deaths': {'total': 1800, 'new': 8},\n",
              "  'recovered': {'total': 95000, 'new': 480}},\n",
              " {'country': 'Canada',\n",
              "  'date': '2025-08-18',\n",
              "  'confirmed_cases': {'total': 120000, 'new': 650},\n",
              "  'deaths': {'total': 2200, 'new': 12},\n",
              "  'recovered': {'total': 110000, 'new': 600}},\n",
              " {'country': 'Germany',\n",
              "  'date': '2025-08-18',\n",
              "  'confirmed_cases': {'total': 150000, 'new': 900},\n",
              "  'deaths': {'total': 3100, 'new': 15},\n",
              "  'recovered': {'total': 140000, 'new': 870}}]"
            ]
          },
          "metadata": {},
          "execution_count": 79
        }
      ]
    },
    {
      "cell_type": "markdown",
      "source": [
        "###Statistics"
      ],
      "metadata": {
        "id": "Q4z0uRdGLAey"
      }
    },
    {
      "cell_type": "code",
      "source": [
        "total_confirmed_cases=0\n",
        "total_deaths=0\n",
        "total_recovered_cases=0\n",
        "\n",
        "for i in data_covid:\n",
        "  total_confirmed_cases=i['confirmed_cases']['total']+total_confirmed_cases\n",
        "  total_deaths=i['deaths']['total']+total_deaths\n",
        "  total_recovered_cases=i['recovered']['total']+total_recovered_cases\n",
        "\n",
        "total_active=total_confirmed_cases-total_deaths-total_recovered_cases\n",
        "\n",
        "print(total_confirmed_cases)\n",
        "print(total_deaths)\n",
        "print(total_recovered_cases)\n",
        "print(total_active)"
      ],
      "metadata": {
        "colab": {
          "base_uri": "https://localhost:8080/"
        },
        "id": "f9op4loE-YKF",
        "outputId": "77acd222-cb59-45d8-aea4-d95e687dead2"
      },
      "execution_count": 52,
      "outputs": [
        {
          "output_type": "stream",
          "name": "stdout",
          "text": [
            "2490000\n",
            "55600\n",
            "2335000\n",
            "99400\n"
          ]
        }
      ]
    },
    {
      "cell_type": "code",
      "source": [
        "summary_covid={\n",
        "    \"total_confirmed_cases\":total_confirmed_cases,\n",
        "    \"total_deaths\":total_deaths,\n",
        "    \"total_recovered_cases\":total_recovered_cases,\n",
        "    \"total_active\":total_active\n",
        "}"
      ],
      "metadata": {
        "id": "UWF0HhAq-YH0"
      },
      "execution_count": 65,
      "outputs": []
    },
    {
      "cell_type": "code",
      "source": [
        "with open(\"summary_covid.json\",\"w\") as f:\n",
        "  json.dump(summary_covid,f)\n",
        "  print(\"Sucessfully\")"
      ],
      "metadata": {
        "colab": {
          "base_uri": "https://localhost:8080/"
        },
        "id": "nbMNO94j-YFa",
        "outputId": "ea8e6137-0b52-4bd4-fc84-bfdf42d6807d"
      },
      "execution_count": 80,
      "outputs": [
        {
          "output_type": "stream",
          "name": "stdout",
          "text": [
            "Sucessfully\n"
          ]
        }
      ]
    }
  ]
}