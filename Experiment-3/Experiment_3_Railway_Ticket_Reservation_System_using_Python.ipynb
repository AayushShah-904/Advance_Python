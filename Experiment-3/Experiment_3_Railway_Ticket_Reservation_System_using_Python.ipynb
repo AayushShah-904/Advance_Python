{
  "nbformat": 4,
  "nbformat_minor": 0,
  "metadata": {
    "colab": {
      "provenance": []
    },
    "kernelspec": {
      "name": "python3",
      "display_name": "Python 3"
    },
    "language_info": {
      "name": "python"
    }
  },
  "cells": [
    {
      "cell_type": "code",
      "execution_count": null,
      "metadata": {
        "id": "w5ZDg5WFet-N"
      },
      "outputs": [],
      "source": [
        "import csv"
      ]
    },
    {
      "cell_type": "markdown",
      "source": [
        "###Reading Train Data"
      ],
      "metadata": {
        "id": "wG9KVlOAgoFM"
      }
    },
    {
      "cell_type": "code",
      "source": [
        "data={}\n",
        "try:\n",
        "    with open(\"train.csv\",\"r\") as train:\n",
        "        reader=csv.DictReader(train)\n",
        "        for row in reader:\n",
        "            try:\n",
        "                data[row[\"Train ID\"]] = {\n",
        "                    \"Train Name\": row[\"Train Name\"],\n",
        "                    \"Source Station\": row[\"Source Station\"],\n",
        "                    \"Destination Station\": row[\"Destination Station\"],\n",
        "                    \"Total Seats\": int(row[\"Total Seats\"])\n",
        "                }\n",
        "            except (KeyError, ValueError) as e:\n",
        "                    print(f\"Skipping train record due to invalid data: {row} ({e})\")\n",
        "except FileNotFoundError:\n",
        "        print(f\"Error: Train file '{train.csv}' not found.\")\n",
        "except Exception as e:\n",
        "        print(f\"Unexpected error reading train file: {e}\")\n",
        "revenue = {}"
      ],
      "metadata": {
        "id": "QE9POAjNfIHv"
      },
      "execution_count": null,
      "outputs": []
    },
    {
      "cell_type": "code",
      "source": [
        "data"
      ],
      "metadata": {
        "colab": {
          "base_uri": "https://localhost:8080/"
        },
        "id": "K77hcleTfIET",
        "outputId": "8ce160d7-9c8c-437a-c5d7-f3f3cd9e883e"
      },
      "execution_count": null,
      "outputs": [
        {
          "output_type": "execute_result",
          "data": {
            "text/plain": [
              "{'K4J8MP': {'Train Name': 'Shatabdi Express',\n",
              "  'Source Station': 'Kolkata',\n",
              "  'Destination Station': 'Surat',\n",
              "  'Total Seats': 1113},\n",
              " '9DZOCS': {'Train Name': 'Duronto Express',\n",
              "  'Source Station': 'Pune',\n",
              "  'Destination Station': 'Delhi',\n",
              "  'Total Seats': 354},\n",
              " 'PNQT3K': {'Train Name': 'Superfast Express',\n",
              "  'Source Station': 'Jaipur',\n",
              "  'Destination Station': 'Ahmedabad',\n",
              "  'Total Seats': 981},\n",
              " '5FLYAZ': {'Train Name': 'Intercity Express',\n",
              "  'Source Station': 'Delhi',\n",
              "  'Destination Station': 'Bangalore',\n",
              "  'Total Seats': 422},\n",
              " 'LMC9BV': {'Train Name': 'Garib Rath',\n",
              "  'Source Station': 'Chennai',\n",
              "  'Destination Station': 'Ahmedabad',\n",
              "  'Total Seats': 782},\n",
              " 'QW35YT': {'Train Name': 'Double Decker',\n",
              "  'Source Station': 'Mumbai',\n",
              "  'Destination Station': 'Surat',\n",
              "  'Total Seats': 1067},\n",
              " 'T9FG6E': {'Train Name': 'Humsafar Express',\n",
              "  'Source Station': 'Hyderabad',\n",
              "  'Destination Station': 'Kolkata',\n",
              "  'Total Seats': 676},\n",
              " 'AVRPNC': {'Train Name': 'Jan Shatabdi',\n",
              "  'Source Station': 'Bangalore',\n",
              "  'Destination Station': 'Jaipur',\n",
              "  'Total Seats': 833},\n",
              " 'ZKD8EW': {'Train Name': 'Shatabdi Express',\n",
              "  'Source Station': 'Ahmedabad',\n",
              "  'Destination Station': 'Chennai',\n",
              "  'Total Seats': 471},\n",
              " 'BXY9LT': {'Train Name': 'Rajdhani Express',\n",
              "  'Source Station': 'Surat',\n",
              "  'Destination Station': 'Pune',\n",
              "  'Total Seats': 663},\n",
              " 'KC7TLE': {'Train Name': 'Duronto Express',\n",
              "  'Source Station': 'Delhi',\n",
              "  'Destination Station': 'Mumbai',\n",
              "  'Total Seats': 939},\n",
              " 'MGZJRF': {'Train Name': 'Tejas Express',\n",
              "  'Source Station': 'Pune',\n",
              "  'Destination Station': 'Hyderabad',\n",
              "  'Total Seats': 382},\n",
              " 'J3P8OL': {'Train Name': 'Rajdhani Express',\n",
              "  'Source Station': 'Bangalore',\n",
              "  'Destination Station': 'Ahmedabad',\n",
              "  'Total Seats': 1182},\n",
              " 'R7XQMG': {'Train Name': 'Jan Shatabdi',\n",
              "  'Source Station': 'Kolkata',\n",
              "  'Destination Station': 'Chennai',\n",
              "  'Total Seats': 576},\n",
              " 'NTFV9C': {'Train Name': 'Garib Rath',\n",
              "  'Source Station': 'Jaipur',\n",
              "  'Destination Station': 'Hyderabad',\n",
              "  'Total Seats': 649},\n",
              " 'W9D7RJ': {'Train Name': 'Intercity Express',\n",
              "  'Source Station': 'Hyderabad',\n",
              "  'Destination Station': 'Pune',\n",
              "  'Total Seats': 1167},\n",
              " 'EYH2MK': {'Train Name': 'Tejas Express',\n",
              "  'Source Station': 'Surat',\n",
              "  'Destination Station': 'Bangalore',\n",
              "  'Total Seats': 1014},\n",
              " 'U2XCM5': {'Train Name': 'Double Decker',\n",
              "  'Source Station': 'Ahmedabad',\n",
              "  'Destination Station': 'Jaipur',\n",
              "  'Total Seats': 355},\n",
              " 'F7KOEI': {'Train Name': 'Superfast Express',\n",
              "  'Source Station': 'Chennai',\n",
              "  'Destination Station': 'Mumbai',\n",
              "  'Total Seats': 1134},\n",
              " 'V3N5LH': {'Train Name': 'Humsafar Express',\n",
              "  'Source Station': 'Mumbai',\n",
              "  'Destination Station': 'Delhi',\n",
              "  'Total Seats': 893}}"
            ]
          },
          "metadata": {},
          "execution_count": 3
        }
      ]
    },
    {
      "cell_type": "markdown",
      "source": [
        "###Booking and Updating No of seats"
      ],
      "metadata": {
        "id": "foBfx2fagvZy"
      }
    },
    {
      "cell_type": "code",
      "source": [
        "try:\n",
        "    with open(\"passenger.csv\", \"r\") as passenger:\n",
        "        reader = csv.DictReader(passenger)\n",
        "        for row in reader:\n",
        "            train_id = row[\"Train ID\"]\n",
        "            passenger_name = row[\"Passenger Name\"]\n",
        "            tickets = int(row[\"Number of Tickets\"])\n",
        "\n",
        "            if train_id not in data:\n",
        "                print(f\"Booking failed for {passenger_name}: Invalid Train ID {train_id}\")\n",
        "                continue\n",
        "\n",
        "            if tickets <= 0:\n",
        "                print(f\"Booking failed for {passenger_name}: Invalid ticket count {tickets}\")\n",
        "                continue\n",
        "\n",
        "            if data[train_id][\"Total Seats\"] >= tickets:\n",
        "                data[train_id][\"Total Seats\"] -= tickets\n",
        "                fare = tickets * 295\n",
        "                revenue[train_id] = revenue.get(train_id, 0) + fare\n",
        "                print(f\"Booking confirmed for {passenger_name} on {train_id} ({tickets} seats)\")\n",
        "            else:\n",
        "                print(f\"Booking failed for {passenger_name}: Not enough seats\")\n",
        "except Exception as e:\n",
        "    print(f\"Unexpected error while booking: {e}\")\n"
      ],
      "metadata": {
        "colab": {
          "base_uri": "https://localhost:8080/"
        },
        "id": "Fho91En3fICH",
        "outputId": "d1f6049b-1aad-4426-bdfe-d2e924dd91d1"
      },
      "execution_count": null,
      "outputs": [
        {
          "output_type": "stream",
          "name": "stdout",
          "text": [
            "Booking confirmed for Passenger_1 on KC7TLE (2 seats)\n",
            "Booking confirmed for Passenger_2 on W9D7RJ (3 seats)\n",
            "Booking confirmed for Passenger_3 on LMC9BV (4 seats)\n",
            "Booking confirmed for Passenger_4 on QW35YT (2 seats)\n",
            "Booking confirmed for Passenger_5 on MGZJRF (5 seats)\n",
            "Booking confirmed for Passenger_6 on BXY9LT (2 seats)\n",
            "Booking confirmed for Passenger_7 on T9FG6E (4 seats)\n",
            "Booking confirmed for Passenger_8 on K4J8MP (1 seats)\n",
            "Booking confirmed for Passenger_9 on U2XCM5 (2 seats)\n",
            "Booking confirmed for Passenger_10 on NTFV9C (1 seats)\n",
            "Booking confirmed for Passenger_11 on F7KOEI (6 seats)\n",
            "Booking confirmed for Passenger_12 on K4J8MP (2 seats)\n",
            "Booking confirmed for Passenger_13 on J3P8OL (5 seats)\n",
            "Booking confirmed for Passenger_14 on AVRPNC (3 seats)\n",
            "Booking confirmed for Passenger_15 on 5FLYAZ (2 seats)\n",
            "Booking confirmed for Passenger_16 on NTFV9C (4 seats)\n",
            "Booking confirmed for Passenger_17 on R7XQMG (1 seats)\n",
            "Booking confirmed for Passenger_18 on T9FG6E (2 seats)\n",
            "Booking confirmed for Passenger_19 on PNQT3K (3 seats)\n",
            "Booking confirmed for Passenger_20 on ZKD8EW (5 seats)\n"
          ]
        }
      ]
    },
    {
      "cell_type": "code",
      "source": [
        "data['5FLYAZ']['Total Seats']"
      ],
      "metadata": {
        "colab": {
          "base_uri": "https://localhost:8080/"
        },
        "id": "D01F7vrEhPv6",
        "outputId": "47544705-abe1-4ff6-df34-7e34dcc68e1c"
      },
      "execution_count": null,
      "outputs": [
        {
          "output_type": "execute_result",
          "data": {
            "text/plain": [
              "420"
            ]
          },
          "metadata": {},
          "execution_count": 10
        }
      ]
    },
    {
      "cell_type": "code",
      "source": [
        "revenue.keys()"
      ],
      "metadata": {
        "colab": {
          "base_uri": "https://localhost:8080/"
        },
        "id": "VeHra3xXh1Sy",
        "outputId": "b3a956ac-e1f4-4045-8d60-9b48afd8b0b0"
      },
      "execution_count": null,
      "outputs": [
        {
          "output_type": "execute_result",
          "data": {
            "text/plain": [
              "dict_keys(['KC7TLE', 'W9D7RJ', 'LMC9BV', 'QW35YT', 'MGZJRF', 'BXY9LT', 'T9FG6E', 'K4J8MP', 'U2XCM5', 'NTFV9C', 'F7KOEI', 'J3P8OL', 'AVRPNC', '5FLYAZ', 'R7XQMG', 'PNQT3K', 'ZKD8EW'])"
            ]
          },
          "metadata": {},
          "execution_count": 24
        }
      ]
    },
    {
      "cell_type": "markdown",
      "source": [
        "###Reports"
      ],
      "metadata": {
        "id": "KjFFTgFdg38M"
      }
    },
    {
      "cell_type": "code",
      "source": [
        "    # Generate reports\n",
        "print(\"\\n--- Report 1: Seat Availability ---\")\n",
        "for keys, values in data.items():\n",
        "      print(f\"{keys}: {values['Total Seats']} seats remaining\")\n",
        "\n",
        "print(\"\\n--- Report 2: Revenue ---\")\n",
        "for tid, amount in revenue.items():\n",
        "      print(f\"{tid}: ₹{amount}\")"
      ],
      "metadata": {
        "colab": {
          "base_uri": "https://localhost:8080/"
        },
        "id": "urfVtwAdfH_x",
        "outputId": "0ca6281c-2a52-4212-fca9-78cbb8b6903b"
      },
      "execution_count": null,
      "outputs": [
        {
          "output_type": "stream",
          "name": "stdout",
          "text": [
            "\n",
            "--- Report 1: Seat Availability ---\n",
            "K4J8MP: 1104 seats remaining\n",
            "9DZOCS: 354 seats remaining\n",
            "PNQT3K: 972 seats remaining\n",
            "5FLYAZ: 416 seats remaining\n",
            "LMC9BV: 770 seats remaining\n",
            "QW35YT: 1061 seats remaining\n",
            "T9FG6E: 658 seats remaining\n",
            "AVRPNC: 824 seats remaining\n",
            "ZKD8EW: 456 seats remaining\n",
            "BXY9LT: 657 seats remaining\n",
            "KC7TLE: 933 seats remaining\n",
            "MGZJRF: 367 seats remaining\n",
            "J3P8OL: 1167 seats remaining\n",
            "R7XQMG: 573 seats remaining\n",
            "NTFV9C: 634 seats remaining\n",
            "W9D7RJ: 1158 seats remaining\n",
            "EYH2MK: 1014 seats remaining\n",
            "U2XCM5: 349 seats remaining\n",
            "F7KOEI: 1116 seats remaining\n",
            "V3N5LH: 893 seats remaining\n",
            "\n",
            "--- Report 2: Revenue ---\n",
            "KC7TLE: ₹2180\n",
            "W9D7RJ: ₹3270\n",
            "LMC9BV: ₹4360\n",
            "QW35YT: ₹2180\n",
            "MGZJRF: ₹5450\n",
            "BXY9LT: ₹2180\n",
            "T9FG6E: ₹6540\n",
            "K4J8MP: ₹3270\n",
            "U2XCM5: ₹2180\n",
            "NTFV9C: ₹5450\n",
            "F7KOEI: ₹6540\n",
            "J3P8OL: ₹5450\n",
            "AVRPNC: ₹3270\n",
            "5FLYAZ: ₹2180\n",
            "R7XQMG: ₹1090\n",
            "PNQT3K: ₹3270\n",
            "ZKD8EW: ₹5450\n"
          ]
        }
      ]
    },
    {
      "cell_type": "code",
      "source": [
        "# Report 1 CSV\n",
        "with open(\"report1.csv\", \"w\", newline=\"\") as f:\n",
        "    writer = csv.writer(f)\n",
        "    writer.writerow([\"Train ID\", \"Train Name\", \"Source Station\", \"Destination Station\", \"Seats Remaining\"])\n",
        "    for key, values in data.items():\n",
        "        writer.writerow([\n",
        "            tid,\n",
        "            values[\"Train Name\"],\n",
        "            values[\"Source Station\"],\n",
        "            values[\"Destination Station\"],\n",
        "            values[\"Total Seats\"]\n",
        "        ])\n",
        "print(\"Report 1 saved as report1.csv\")\n",
        "\n",
        "# Report 2 CSV\n",
        "with open(\"report2.csv\", \"w\", newline=\"\", encoding=\"utf-8\") as f:\n",
        "    writer = csv.writer(f)\n",
        "    writer.writerow([\"Train ID\", \"Revenue (₹)\"])\n",
        "    for tid, amount in revenue.items():\n",
        "        writer.writerow([tid, amount])\n",
        "print(\" Report 2 saved as report2.csv\")"
      ],
      "metadata": {
        "colab": {
          "base_uri": "https://localhost:8080/"
        },
        "id": "cf8YTftVfH9P",
        "outputId": "3c0ba564-0d1d-4b95-eb48-64328beabba1"
      },
      "execution_count": null,
      "outputs": [
        {
          "output_type": "stream",
          "name": "stdout",
          "text": [
            "Report 1 saved as report1.csv\n",
            " Report 2 saved as report2.csv\n"
          ]
        }
      ]
    },
    {
      "cell_type": "code",
      "source": [],
      "metadata": {
        "id": "enbXs6NofH6z"
      },
      "execution_count": null,
      "outputs": []
    },
    {
      "cell_type": "code",
      "source": [],
      "metadata": {
        "id": "9D5yv7htfH4Y"
      },
      "execution_count": null,
      "outputs": []
    },
    {
      "cell_type": "code",
      "source": [],
      "metadata": {
        "id": "42foZgV_fH1v"
      },
      "execution_count": null,
      "outputs": []
    },
    {
      "cell_type": "code",
      "source": [],
      "metadata": {
        "id": "IwvAVQJLfHzb"
      },
      "execution_count": null,
      "outputs": []
    },
    {
      "cell_type": "code",
      "source": [],
      "metadata": {
        "id": "I1Za-lTNfHxJ"
      },
      "execution_count": null,
      "outputs": []
    }
  ]
}